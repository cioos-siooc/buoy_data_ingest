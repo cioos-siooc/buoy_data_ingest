{
 "cells": [
  {
   "cell_type": "code",
   "execution_count": 513,
   "metadata": {},
   "outputs": [],
   "source": [
    "import glob\n",
    "import os\n",
    "import pandas as pd"
   ]
  },
  {
   "cell_type": "code",
   "execution_count": null,
   "metadata": {},
   "outputs": [],
   "source": []
  },
  {
   "cell_type": "code",
   "execution_count": null,
   "metadata": {},
   "outputs": [],
   "source": [
    "###\n",
    "### Convert OPP data in CSV format given to us by DFO/MEDS into the SWOB format\n",
    "###"
   ]
  },
  {
   "cell_type": "code",
   "execution_count": null,
   "metadata": {},
   "outputs": [],
   "source": []
  },
  {
   "cell_type": "code",
   "execution_count": 514,
   "metadata": {},
   "outputs": [],
   "source": [
    "column_mapping={\n",
    "#   \"Region\": \"\",\n",
    "  \"Name\": \"stn_nam\",\n",
    "  \"WMOID\": \"wmo_synop_id\",\n",
    "  \"MSCID\": \"msc_id\",\n",
    "#   \"Buoy Type\": \"\",\n",
    "  \"Time Stamp\": \"sampling_time\",\n",
    "  \"Latitude\": \"lat\",\n",
    "  \"Longitude\": \"long\",\n",
    "  \"Air Temperature\": \"avg_air_temp_pst10mts\",\n",
    "  \"Air Temperature QA Tag\": \"avg_air_temp_pst10mts_qa_summary\",\n",
    "  \"Water Temperature\": \"avg_sea_sfc_temp_pst10mts\",\n",
    "  \"Water Temperature QA Tag\": \"avg_sea_sfc_temp_pst10mts_qa_summary\",\n",
    "  \"Official Pressure\": \"avg_stn_pres_pst10mts\",\n",
    "  \"Official Pressure QA Tag\": \"avg_stn_pres_pst10mts_qa_summary\",\n",
    "  \"Pressure 1\": \"avg_stn_pres_pst10mts_1\",\n",
    "  \"Pressure 1 QA Tag\": \"avg_stn_pres_pst10mts_1_qa_summary\",\n",
    "  \"Pressure 2\": \"avg_stn_pres_pst10mts_2\",\n",
    "  \"Pressure 2 QA Tag\": \"avg_stn_pres_pst10mts_2_qa_summary\",\n",
    "  \"Wave Height\": \"avg_wave_hgt_pst20mts\",\n",
    "  \"Wave Height QA Tag\": \"avg_wave_hgt_pst20mts_qa_summary\",\n",
    "  \"Peak Wave\": \"pk_wave_hgt_pst20mts\",\n",
    "  \"Peak Wave QA Tag\": \"pk_wave_hgt_pst20mts_qa_summary\",\n",
    "  \"Wave Period\": \"avg_wave_pd_pst20mts\",\n",
    "  \"Wave Period QA Tag\": \"avg_wave_pd_pst20mts_qa_summary\",\n",
    "  \"Offical Wind Direction\": \"avg_wnd_dir_pst10mts\",\n",
    "  \"Offical Wind Direction QA Tag\": \"avg_wnd_dir_pst10mts_qa_summary\",\n",
    "  \"Wind Direction 1\": \"avg_wnd_dir_pst10mts_1\",\n",
    "  \"Wind Direction 1 QA Tag\": \"avg_wnd_dir_pst10mts_1_qa_summary\",\n",
    "  \"Wind Direction 2\": \"avg_wnd_dir_pst10mts_2\",\n",
    "  \"Wind Direction 2 QA Tag\": \"avg_wnd_dir_pst10mts_2_qa_summary\",\n",
    "  \"Official Wind Speed\": \"avg_wnd_spd_pst10mts\",\n",
    "  \"Official Wind Speed QA Tag\": \"avg_wnd_spd_pst10mts_qa_summary\",\n",
    "  \"Wind Speed 1\": \"avg_wnd_spd_pst10mts_1\",\n",
    "  \"Wind Speed 1 QA Tag\": \"avg_wnd_spd_pst10mts_1_qa_summary\",\n",
    "  \"Wind Speed 2\": \"avg_wnd_spd_pst10mts_2\",\n",
    "  \"Wind Speed 2 QA Tag\": \"avg_wnd_spd_pst10mts_2_qa_summary\",\n",
    "  \"Official Wind Gust\": \"max_avg_wnd_spd_pst10mts\",\n",
    "  \"Official Wind Gust QA Tag\": \"max_avg_wnd_spd_pst10mts_qa_summary\",\n",
    "  \"Wind Gust 1\": \"max_avg_wnd_spd_pst10mts_1\",\n",
    "  \"Wind Gust 1 QA Tag\": \"max_avg_wnd_spd_pst10mts_1_qa_summary\",\n",
    "  \"Wind Gust 2\": \"max_avg_wnd_spd_pst10mts_2\",\n",
    "  \"Wind Gust 2 QA Tag\": \"max_avg_wnd_spd_pst10mts_2_qa_summary\",\n",
    "# These arent in the SWOB\n",
    "  \"Region\": \"region\",\n",
    "  \"Buoy Type\": \"buoy_type\",\n",
    "  \"Compass 1\": \"compass_1\",\n",
    "  \"Compass 1 QA Tag\": \"compass_1_qa_summary\",\n",
    "  \"Compass 2\": \"compass_2\",\n",
    "  \"Compass 2 QA Tag\": \"compass_2_qa_summary\"\n",
    "}\n"
   ]
  },
  {
   "cell_type": "code",
   "execution_count": 516,
   "metadata": {},
   "outputs": [],
   "source": [
    "# Load all OPP CSV data\n",
    "opp_csv_paths = glob.glob(\"O*.csv\")\n",
    "\n",
    "opp_csv_data=pd.DataFrame\n",
    "csv_datas=[]\n",
    "for csv_path in opp_csv_paths:\n",
    "    df_csv=pd.read_csv(csv_path,na_values=['MSNG'])\n",
    "    csv_datas.append(df_csv)\n",
    "df=pd.concat(csv_datas).drop_duplicates()\n",
    "    "
   ]
  },
  {
   "cell_type": "code",
   "execution_count": 517,
   "metadata": {},
   "outputs": [],
   "source": [
    "# The CSVs have columns like \"Temperature,QA,Wind speed,QA\"\n",
    "# This adds the variable name before \"QA\" so the column\n",
    "# names are unique\n",
    "new_column_names=[]\n",
    "for column in df.columns:\n",
    "    if \"QA Tag\" in column:\n",
    "        new_column_names.append(previous_col + \" QA Tag\")\n",
    "    else:\n",
    "        new_column_names.append(column)\n",
    "        previous_col=column\n",
    "df.columns=new_column_names"
   ]
  },
  {
   "cell_type": "code",
   "execution_count": 518,
   "metadata": {},
   "outputs": [],
   "source": [
    "#\n",
    "# Reformat the data a bit to match SWOB\n",
    "#"
   ]
  },
  {
   "cell_type": "code",
   "execution_count": 519,
   "metadata": {},
   "outputs": [],
   "source": [
    "# remove the '00' from WMOID to match format used in SWOB system. Eg 4600303 to 46303\n",
    "df.WMOID = (df.WMOID.astype(str).str.slice(0,2)+ df.WMOID.astype(str).str.slice(4,))"
   ]
  },
  {
   "cell_type": "code",
   "execution_count": null,
   "metadata": {},
   "outputs": [],
   "source": []
  },
  {
   "cell_type": "code",
   "execution_count": 521,
   "metadata": {},
   "outputs": [],
   "source": [
    "# Convert wind speeds from m/s  to km/h to match SWOB\n",
    "wind_speed_columns=[\"Official Wind Speed\",\n",
    "                    \"Wind Speed 1\",\n",
    "                    \"Wind Speed 2\",\n",
    "                    \"Official Wind Gust\",\n",
    "                    \"Wind Gust 1\",\n",
    "                    \"Wind Gust 2\"\n",
    "                   ]\n",
    "\n",
    "for column in wind_speed_columns:\n",
    "    df[column]=(df[column]*3.6).round(decimals=4)\n"
   ]
  },
  {
   "cell_type": "code",
   "execution_count": 522,
   "metadata": {},
   "outputs": [],
   "source": [
    "# Change CSV column names to SWOB column names\n",
    "df.rename(columns=column_mapping,inplace=True)"
   ]
  },
  {
   "cell_type": "code",
   "execution_count": 523,
   "metadata": {},
   "outputs": [],
   "source": [
    "# remove CSV columns that havent mapped to SWOB columns\n",
    "swob_columns = column_mapping.values()\n",
    "for column in df.columns:\n",
    "    if column not in swob_columns:\n",
    "        print(\"Column not in database table:\",column)\n"
   ]
  },
  {
   "cell_type": "code",
   "execution_count": 524,
   "metadata": {},
   "outputs": [],
   "source": [
    "# Keep track of the source of the data in the DB (SWOB vs CSV)\n",
    "df.source=\"CSV\""
   ]
  },
  {
   "cell_type": "code",
   "execution_count": 525,
   "metadata": {},
   "outputs": [],
   "source": [
    "# string to datetime (UTC)\n",
    "df['sampling_time'] = pd.to_datetime(df['sampling_time'])"
   ]
  },
  {
   "cell_type": "code",
   "execution_count": 526,
   "metadata": {},
   "outputs": [],
   "source": [
    "df.to_csv(\"opp_reformatted2.csv\",index=False)"
   ]
  }
 ],
 "metadata": {
  "kernelspec": {
   "display_name": "Python 3.6.9 64-bit ('b101': conda)",
   "language": "python",
   "name": "python36964bitb101condaf56cdee2a93746d992b28fc16071b64a"
  },
  "language_info": {
   "codemirror_mode": {
    "name": "ipython",
    "version": 3
   },
   "file_extension": ".py",
   "mimetype": "text/x-python",
   "name": "python",
   "nbconvert_exporter": "python",
   "pygments_lexer": "ipython3",
   "version": "3.6.9"
  }
 },
 "nbformat": 4,
 "nbformat_minor": 4
}
